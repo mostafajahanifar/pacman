{
 "cells": [
  {
   "cell_type": "code",
   "execution_count": 1,
   "metadata": {},
   "outputs": [],
   "source": [
    "import os\n",
    "import pandas as pd\n",
    "import numpy as np\n",
    "index_list = np.load('/mnt/gpfs01/lsf-workspace/u2070124/Data/Data/pancancer/mitosis_patches_embeddings/clustering_all_index_list.npy')\n",
    "df = pd.read_csv(\"/mnt/gpfs01/lsf-workspace/u2070124/Data/Data/pancancer/mitosis_patches_embeddings/KMean7_clustering_all_labels_data.csv\")\n",
    "df[\"ins_ind\"] = index_list.tolist()"
   ]
  },
  {
   "cell_type": "code",
   "execution_count": 9,
   "metadata": {},
   "outputs": [
    {
     "name": "stderr",
     "output_type": "stream",
     "text": [
      "1000it [00:09, 101.49it/s]\n",
      "1000it [00:10, 97.87it/s]\n",
      "1000it [00:10, 97.55it/s]\n",
      "1000it [00:10, 97.99it/s]\n",
      "1000it [00:08, 114.29it/s]\n",
      "1000it [00:08, 122.03it/s]\n",
      "1000it [00:08, 112.03it/s]\n"
     ]
    }
   ],
   "source": [
    "import shutil\n",
    "from tqdm import tqdm\n",
    "\n",
    "root_dir = '/mnt/gpfs01/lsf-workspace/u2070124/Data/Data/pancancer/mitosis_patches'  # replace with your root directory\n",
    "target_dir = '/mnt/gpfs01/lsf-workspace/u2070124/Data/Data/pancancer/mitosis_patches_clusters'  # replace with your target directory\n",
    "\n",
    "# Get unique clusters\n",
    "clusters = df['cluster'].unique()\n",
    "\n",
    "for cluster in clusters:\n",
    "    # Sample 1000 instances from each cluster\n",
    "    sample_df = df[df['cluster'] == cluster].sample(n=1000)\n",
    "    sample_df[\"x\"] = sample_df[\"x\"].astype(int)\n",
    "    sample_df[\"y\"] = sample_df[\"y\"].astype(int)\n",
    "    # Create a new directory for this cluster\n",
    "    cluster_dir = os.path.join(target_dir, str(cluster))\n",
    "    os.makedirs(cluster_dir, exist_ok=True)\n",
    "\n",
    "    # Copy the images to the new directory\n",
    "    for index, row in tqdm(sample_df.iterrows()):\n",
    "        src_path = os.path.join(root_dir, row['type'], row['case'], f\"{row['ins_ind']}_{row['x']}_{row['y']}.png\")\n",
    "        dst_path = os.path.join(cluster_dir, f\"{row['ins_ind']}_{row['x']}_{row['y']}.png\")\n",
    "        shutil.copy(src_path, dst_path)\n"
   ]
  },
  {
   "cell_type": "code",
   "execution_count": null,
   "metadata": {},
   "outputs": [],
   "source": []
  }
 ],
 "metadata": {
  "kernelspec": {
   "display_name": "tiaviz",
   "language": "python",
   "name": "python3"
  },
  "language_info": {
   "codemirror_mode": {
    "name": "ipython",
    "version": 3
   },
   "file_extension": ".py",
   "mimetype": "text/x-python",
   "name": "python",
   "nbconvert_exporter": "python",
   "pygments_lexer": "ipython3",
   "version": "3.10.13"
  }
 },
 "nbformat": 4,
 "nbformat_minor": 2
}
