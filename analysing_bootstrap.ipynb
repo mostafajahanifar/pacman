{
 "cells": [
  {
   "cell_type": "code",
   "execution_count": 1,
   "metadata": {},
   "outputs": [
    {
     "name": "stdout",
     "output_type": "stream",
     "text": [
      "c-index 0.7167726460311263\n",
      "p-value 0.0212197461107722\n"
     ]
    },
    {
     "name": "stderr",
     "output_type": "stream",
     "text": [
      "inotify_add_watch(/home/mostafa/.config/ibus/bus/3a0072272c814e94aa7a81e7d532728a-unix-0) failed: (No space left on device)\n"
     ]
    }
   ],
   "source": [
    "import pandas as pd\n",
    "import numpy as np\n",
    "import matplotlib.pylab as plt\n",
    "import seaborn as sns\n",
    "%matplotlib qt\n",
    "\n",
    "bootstrap = pd.read_csv('bootstrap_results_mitosisFeats_Distant Metastasis_Endocrine_LN0_stdThresh0_NEWcorrThresh1.csv')\n",
    "# identify top feature from all experiments\n",
    "feat_cols = bootstrap.columns[1:-2]\n",
    "\n",
    "# converting bootsrap features to log space\n",
    "bootstrap[feat_cols] = np.log(bootstrap[feat_cols])\n",
    "\n",
    "print('c-index', bootstrap['c_index'].mean())\n",
    "print('p-value', 2*bootstrap['p_value'].median())\n"
   ]
  },
  {
   "cell_type": "code",
   "execution_count": 2,
   "metadata": {},
   "outputs": [],
   "source": [
    "hrs_mean = bootstrap[feat_cols].mean(axis=0).abs()\n",
    "\n",
    "# finding the top features based on stats\n",
    "num_top_features = 3\n",
    "temp = hrs_mean.sort_values(ascending=False)\n",
    "top_features = temp.index.to_list()[:num_top_features]\n",
    "# top_features = ['M', 'LVI']\n",
    "\n",
    "# top features to dataframe\n",
    "top_hazard_ratios = bootstrap[top_features]"
   ]
  },
  {
   "cell_type": "code",
   "execution_count": 3,
   "metadata": {},
   "outputs": [
    {
     "data": {
      "text/plain": [
       "[<matplotlib.lines.Line2D at 0x7f7f300924c0>]"
      ]
     },
     "execution_count": 3,
     "metadata": {},
     "output_type": "execute_result"
    }
   ],
   "source": [
    "plt.plot(bootstrap['c_index'])"
   ]
  },
  {
   "cell_type": "code",
   "execution_count": 3,
   "metadata": {},
   "outputs": [],
   "source": [
    "def set_axis_style(ax, labels, pos):\n",
    "    ax.yaxis.set_tick_params(direction='out')\n",
    "    ax.yaxis.set_ticks_position('left')\n",
    "    ax.set_yticks(pos, labels=labels)\n",
    "    ax.set_ylim(0.25, len(labels) + 0.75)\n",
    "    # ax.set_xlabel('Sample name')"
   ]
  },
  {
   "cell_type": "code",
   "execution_count": 4,
   "metadata": {},
   "outputs": [],
   "source": [
    "## combine these different collections into a list\n",
    "# data_to_plot = [np.log(top_hazard_ratios[feat].to_list()) for feat in top_features]\n",
    "plt.figure()\n",
    "data_to_plot = [top_hazard_ratios[feat].to_list() for feat in top_features]\n",
    "pos = len(top_features) - np.arange(len(top_features))\n",
    "plt.violinplot(data_to_plot, pos,showmeans=True, showextrema=True, showmedians=True,vert=False)\n",
    "ax = plt.gca()\n",
    "set_axis_style(ax, top_features, pos)\n",
    "plt.show()"
   ]
  },
  {
   "cell_type": "code",
   "execution_count": 5,
   "metadata": {},
   "outputs": [],
   "source": [
    "#### Now, we first identify experiments with high c-index and isolate them\n",
    "ex_ids = np.where(bootstrap['c_index'].to_numpy()>0.65)[0]\n",
    "selected_bootsrap = bootstrap.iloc[ex_ids.tolist()]\n",
    "\n",
    "# identify top feature from all experiments\n",
    "feat_cols = selected_bootsrap.columns[1:-2]\n",
    "hrs_mean = selected_bootsrap[feat_cols].mean(axis=0).abs()\n",
    "\n",
    "# finding the top features based on stats\n",
    "num_top_features = 50\n",
    "temp = hrs_mean.sort_values(ascending=False)\n",
    "top_features = temp.index.to_list()[:num_top_features]\n",
    "\n",
    "# top features to dataframe\n",
    "top_hazard_ratios = selected_bootsrap[top_features]"
   ]
  },
  {
   "cell_type": "code",
   "execution_count": 6,
   "metadata": {},
   "outputs": [],
   "source": [
    "plt.figure(),\n",
    "# data_to_plot = [np.log(top_hazard_ratios[feat].to_list()) for feat in top_features]\n",
    "data_to_plot = [top_hazard_ratios[feat].to_list() for feat in top_features]\n",
    "pos = len(top_features) - np.arange(len(top_features))\n",
    "plt.violinplot(data_to_plot, pos,showmeans=True, showextrema=True, showmedians=True,vert=False)\n",
    "ax = plt.gca()\n",
    "set_axis_style(ax, top_features, pos)\n",
    "plt.show()"
   ]
  },
  {
   "cell_type": "code",
   "execution_count": 16,
   "metadata": {},
   "outputs": [
    {
     "name": "stderr",
     "output_type": "stream",
     "text": [
      "/tmp/ipykernel_15446/522006459.py:2: DtypeWarning: Columns (0) have mixed types. Specify dtype option on import or set low_memory=False.\n",
      "  discov_df = pd.read_csv('all_feats_combi/features_combined/NOTT/discovery_valid_combined.csv')\n",
      "/tmp/ipykernel_15446/522006459.py:7: FutureWarning: Dropping of nuisance columns in DataFrame reductions (with 'numeric_only=None') is deprecated; in a future version this will raise TypeError.  Select only valid columns before calling the reduction.\n",
      "  features_std = discov_df.std()\n"
     ]
    },
    {
     "name": "stdout",
     "output_type": "stream",
     "text": [
      "525\n",
      "116\n"
     ]
    }
   ],
   "source": [
    "import pandas as pd\n",
    "discov_df = pd.read_csv('all_feats_combi/features_combined/NOTT/discovery_valid_combined.csv')\n",
    "all_feats_list = discov_df.columns[39:]\n",
    "std_thresh = 0.1\n",
    "corr_thresh = 0.7\n",
    "\n",
    "features_std = discov_df.std()\n",
    "feats_list = []\n",
    "for feat in all_feats_list:\n",
    "    if features_std[feat] > std_thresh:\n",
    "    #    print(feat, features_std[feat])\n",
    "        feats_list.append(feat)\n",
    "print(len(feats_list))     \n",
    "\n",
    "normalized_df = (discov_df[feats_list] - discov_df[feats_list].min()) / (discov_df[feats_list].max() - discov_df[feats_list].min())\n",
    "corr = normalized_df[feats_list].corr().abs()\n",
    "upper_tri = corr.where(np.triu(np.ones(corr.shape),k=1).astype(bool))\n",
    "corrolated_features = [column for column in upper_tri.columns if any(upper_tri[column] > corr_thresh)]\n",
    "final_feat_list = list(set(feats_list).difference(set(corrolated_features)))\n",
    "print(len(final_feat_list))"
   ]
  },
  {
   "cell_type": "code",
   "execution_count": 3,
   "metadata": {},
   "outputs": [],
   "source": [
    "\n",
    "bootsrap_num = 5\n",
    "discov_val_feats_path = 'all_feats_combi/features_combined/NOTT/discovery_valid_combined.csv'\n",
    "event_col = 'Distant Metastasis'\n",
    "discov_df = pd.read_csv(discov_val_feats_path)\n",
    "EE = discov_df[event_col].to_numpy()\n",
    "rng = np.random.RandomState()\n",
    "c_indices = []\n",
    "p_values = []\n",
    "\n",
    "train_list = []\n",
    "for run in range(bootsrap_num):\n",
    "    pos_index_train = list(rng.choice(np.nonzero(EE==1)[0],size = np.sum(EE)))\n",
    "    train_list.append(pos_index_train)\n",
    "    "
   ]
  },
  {
   "cell_type": "code",
   "execution_count": 12,
   "metadata": {},
   "outputs": [
    {
     "data": {
      "text/plain": [
       "array([309])"
      ]
     },
     "execution_count": 12,
     "metadata": {},
     "output_type": "execute_result"
    }
   ],
   "source": [
    "np.where(discov_df.columns=='nodeDegrees_std')[0]"
   ]
  },
  {
   "cell_type": "code",
   "execution_count": 20,
   "metadata": {},
   "outputs": [],
   "source": [
    "from statsmodels.stats.outliers_influence import variance_inflation_factor\n",
    "from statsmodels.tools.tools import add_constant\n",
    "\n",
    "df = discov_df[['assortCoeff', 'avrDegree_1', 'avrDegree_10', 'avrDegree_2',\n",
    "       'avrDegree_5', 'avrDegree_7', 'cenCloseness_h4', 'cenCloseness_std',\n",
    "       'cenDegree_h4', 'cenDegree_h5', 'cenDegree_max', 'cenEigen_h3',\n",
    "       'cenEigen_h5', 'cenEigen_max', 'cenEigen_med', 'cenKatz_h2',\n",
    "       'cenKatz_h3', 'cenKatz_h5', 'mit_tum_ratio', 'nodeDegrees_h1']]\n",
    "\n",
    "X = df.assign(const=1)\n",
    "mosi = pd.Series([variance_inflation_factor(X.values, i) \n",
    "               for i in range(X.shape[1])], \n",
    "              index=X.columns)"
   ]
  },
  {
   "cell_type": "code",
   "execution_count": 16,
   "metadata": {},
   "outputs": [
    {
     "name": "stdout",
     "output_type": "stream",
     "text": [
      "   c_index  p_value  num_fail\n",
      "0     0.70    0.050         1\n",
      "1     0.70    0.100         3\n",
      "2     0.80    0.400         2\n",
      "3     0.90    0.010         0\n",
      "4     0.60    0.002         3\n",
      "5     0.50    0.300         5\n",
      "6     0.65    0.060         0\n",
      "7     0.70    0.100         2\n",
      "3\n",
      "Best feature scores: 0.0\n"
     ]
    }
   ],
   "source": [
    "feature_scores = {\n",
    "    'c_index': [0.7, 0.7, 0.8, 0.9, 0.6, 0.5, 0.65, 0.7],\n",
    "    'p_value': [0.05, 0.1, 0.4, 0.01, 0.002, 0.3, 0.06, 0.1],\n",
    "    'num_fail':[1, 3, 2, 0, 3, 5, 0, 2]}\n",
    "\n",
    "score_df = pd.DataFrame(feature_scores)\n",
    "print(score_df)\n",
    "sorted_score_df = score_df.sort_values(['c_index', 'p_value', 'num_fail'], ascending=[False, True, True])\n",
    "print(sorted_score_df.index[0])\n",
    "print(f'Best feature scores: {sorted_score_df.iloc[0][0]}')\n"
   ]
  },
  {
   "cell_type": "code",
   "execution_count": 7,
   "metadata": {},
   "outputs": [
    {
     "data": {
      "text/plain": [
       "['Unnamed: 0',\n",
       " 'cenHarmonic_max',\n",
       " 'nodeDegrees_max',\n",
       " 'clusterCoff_med',\n",
       " 'c_index',\n",
       " 'p_value']"
      ]
     },
     "execution_count": 7,
     "metadata": {},
     "output_type": "execute_result"
    }
   ],
   "source": [
    "list(bootstrap.columns)\n",
    "\n"
   ]
  },
  {
   "cell_type": "code",
   "execution_count": null,
   "metadata": {},
   "outputs": [],
   "source": []
  }
 ],
 "metadata": {
  "kernelspec": {
   "display_name": "tf1",
   "language": "python",
   "name": "python3"
  },
  "language_info": {
   "codemirror_mode": {
    "name": "ipython",
    "version": 3
   },
   "file_extension": ".py",
   "mimetype": "text/x-python",
   "name": "python",
   "nbconvert_exporter": "python",
   "pygments_lexer": "ipython3",
   "version": "3.8.13"
  },
  "orig_nbformat": 4,
  "vscode": {
   "interpreter": {
    "hash": "437ec96c40eefae2cb702735df791d1b7540f37193e191477298877c442313ed"
   }
  }
 },
 "nbformat": 4,
 "nbformat_minor": 2
}
