{
 "cells": [
  {
   "cell_type": "code",
   "execution_count": 1,
   "metadata": {},
   "outputs": [
    {
     "name": "stdout",
     "output_type": "stream",
     "text": [
      "COADREAD_old 0\n",
      "UCEC 0\n",
      "STAD 0\n",
      "BRCA 80\n",
      "DLBC 0\n",
      "PRAD 0\n",
      "THYM 0\n",
      "LUSC 0\n",
      "THCA 0\n",
      "KICH 0\n",
      "PAN-CANCER 159\n",
      "ACC 19\n",
      "CESC 0\n",
      "HNSC 0\n",
      "OV 14\n",
      "LIHC 47\n",
      "ESCA 0\n",
      "SKCM 0\n",
      "PAAD 0\n",
      "BLCA 0\n",
      "MESO 0\n",
      "COADREAD 0\n",
      "TGCT 0\n",
      "CHOL 0\n",
      "PCPG 0\n",
      "UCS 0\n",
      "LUAD 62\n",
      "SARC 65\n",
      "KIRC 0\n",
      "GBMLGG 0\n",
      "KIRP 0\n"
     ]
    }
   ],
   "source": [
    "import os\n",
    "import pandas as pd\n",
    "\n",
    "corr_thresh = 0.6\n",
    "# Directory where your subdirectories are located\n",
    "base_directory = 'results_final_all/gene/expression/'\n",
    "\n",
    "# importing feature data to extract number of cases in each study\n",
    "discov_val_feats_path = '/mnt/gpfs01/lsf-workspace/u2070124/Data/Data/pancancer/tcga_features_final.csv'\n",
    "df = pd.read_csv(discov_val_feats_path)\n",
    "df['type'] = df['type'].replace(['COAD', 'READ'], 'COADREAD')\n",
    "df['type'] = df['type'].replace(['GBM', 'LGG'], 'GBMLGG')\n",
    "\n",
    "# Dictionary to store the final results, using entity names as keys\n",
    "final_results = set([])\n",
    "\n",
    "# Walk through each subdirectory\n",
    "for root, dirs, files in os.walk(base_directory):\n",
    "    # Check if both corr_p.csv and corr_r.csv exist in the directory\n",
    "    if 'corr_r.csv' in files and 'corr_p.csv' in files:\n",
    "        # Get the subdirectory name\n",
    "        subdirectory_name = os.path.basename(root)\n",
    "\n",
    "        temp_df = df[df['type']==subdirectory_name]\n",
    "        # if subdirectory_name!=\"PAN-CANCER\" and len(temp_df)<200:\n",
    "        #     continue\n",
    "        # subdirectory_name = \"KICH\"\n",
    "        # Load correlation and p-value files\n",
    "        corr_r_df = pd.read_csv(os.path.join(root, 'corr_r.csv'))\n",
    "        corr_p_df = pd.read_csv(os.path.join(root, 'corr_p.csv'))\n",
    "\n",
    "        corr_r_df=corr_r_df.set_index(\"Unnamed: 0\")\n",
    "        corr_p_df=corr_p_df.set_index(\"Unnamed: 0\")\n",
    "\n",
    "        # make the corr_r equal to 0 for the genes with non-significant p-value\n",
    "        corr_r_df[corr_p_df>0.01] = 0\n",
    "\n",
    "        corr_r_max = corr_r_df.abs().max(axis=0)\n",
    "        selected_genes = corr_r_max[corr_r_max>corr_thresh].index\n",
    "\n",
    "        final_results = final_results.union(set(selected_genes))\n",
    "\n",
    "        print(subdirectory_name, len(selected_genes))\n",
    "\n",
    "        # if subdirectory_name == \"BRCA\":\n",
    "        #     break\n",
    "# Convert the final_results dictionary to a DataFrame\n",
    "final_results_df = pd.DataFrame(final_results)\n",
    "\n",
    "# Save the results to a CSV file\n",
    "final_results_df.to_csv(base_directory+'filtered_results_major_cancers.csv', index=False, header=None)\n",
    "\n"
   ]
  },
  {
   "cell_type": "code",
   "execution_count": 2,
   "metadata": {},
   "outputs": [
    {
     "data": {
      "text/html": [
       "<div>\n",
       "<style scoped>\n",
       "    .dataframe tbody tr th:only-of-type {\n",
       "        vertical-align: middle;\n",
       "    }\n",
       "\n",
       "    .dataframe tbody tr th {\n",
       "        vertical-align: top;\n",
       "    }\n",
       "\n",
       "    .dataframe thead th {\n",
       "        text-align: right;\n",
       "    }\n",
       "</style>\n",
       "<table border=\"1\" class=\"dataframe\">\n",
       "  <thead>\n",
       "    <tr style=\"text-align: right;\">\n",
       "      <th></th>\n",
       "      <th>0</th>\n",
       "    </tr>\n",
       "  </thead>\n",
       "  <tbody>\n",
       "    <tr>\n",
       "      <th>0</th>\n",
       "      <td>KIF4A</td>\n",
       "    </tr>\n",
       "    <tr>\n",
       "      <th>1</th>\n",
       "      <td>FAM72D</td>\n",
       "    </tr>\n",
       "    <tr>\n",
       "      <th>2</th>\n",
       "      <td>GINS4</td>\n",
       "    </tr>\n",
       "    <tr>\n",
       "      <th>3</th>\n",
       "      <td>POLQ</td>\n",
       "    </tr>\n",
       "    <tr>\n",
       "      <th>4</th>\n",
       "      <td>SPC24</td>\n",
       "    </tr>\n",
       "    <tr>\n",
       "      <th>...</th>\n",
       "      <td>...</td>\n",
       "    </tr>\n",
       "    <tr>\n",
       "      <th>177</th>\n",
       "      <td>DKC1</td>\n",
       "    </tr>\n",
       "    <tr>\n",
       "      <th>178</th>\n",
       "      <td>TK1</td>\n",
       "    </tr>\n",
       "    <tr>\n",
       "      <th>179</th>\n",
       "      <td>KIF20A</td>\n",
       "    </tr>\n",
       "    <tr>\n",
       "      <th>180</th>\n",
       "      <td>MCM2</td>\n",
       "    </tr>\n",
       "    <tr>\n",
       "      <th>181</th>\n",
       "      <td>GSG2</td>\n",
       "    </tr>\n",
       "  </tbody>\n",
       "</table>\n",
       "<p>182 rows × 1 columns</p>\n",
       "</div>"
      ],
      "text/plain": [
       "          0\n",
       "0     KIF4A\n",
       "1    FAM72D\n",
       "2     GINS4\n",
       "3      POLQ\n",
       "4     SPC24\n",
       "..      ...\n",
       "177    DKC1\n",
       "178     TK1\n",
       "179  KIF20A\n",
       "180    MCM2\n",
       "181    GSG2\n",
       "\n",
       "[182 rows x 1 columns]"
      ]
     },
     "execution_count": 2,
     "metadata": {},
     "output_type": "execute_result"
    }
   ],
   "source": [
    "final_results_df"
   ]
  },
  {
   "cell_type": "code",
   "execution_count": 22,
   "metadata": {},
   "outputs": [],
   "source": [
    "mnai = pd.read_csv(\"/mnt/gpfs01/lsf-workspace/u2070124/Code/mitsa/gene/data/MNAI_gene_data.csv\")"
   ]
  },
  {
   "cell_type": "code",
   "execution_count": 26,
   "metadata": {},
   "outputs": [
    {
     "data": {
      "text/plain": [
       "array(['UCEC', 'STAD', 'ESCA', 'MESO', 'UVM', 'CESC', 'TGCT', 'BRCA',\n",
       "       'THYM', 'HNSC', 'LUSC', 'THCA', 'LAML', 'COADREAD', 'LIHC', 'SKCM',\n",
       "       'KIRP', 'DLBC', 'PCPG', 'LGG', 'PAAD', 'GBM', 'KICH', 'UCS',\n",
       "       'LUAD', 'SARC', 'KIRC', 'CHOL', 'PRAD', 'OV', 'BLCA', 'ACC'],\n",
       "      dtype=object)"
      ]
     },
     "execution_count": 26,
     "metadata": {},
     "output_type": "execute_result"
    }
   ],
   "source": [
    "mnai[\"type\"].unique()"
   ]
  },
  {
   "cell_type": "code",
   "execution_count": null,
   "metadata": {},
   "outputs": [],
   "source": []
  }
 ],
 "metadata": {
  "kernelspec": {
   "display_name": "tia",
   "language": "python",
   "name": "python3"
  },
  "language_info": {
   "codemirror_mode": {
    "name": "ipython",
    "version": 3
   },
   "file_extension": ".py",
   "mimetype": "text/x-python",
   "name": "python",
   "nbconvert_exporter": "python",
   "pygments_lexer": "ipython3",
   "version": "3.11.0"
  }
 },
 "nbformat": 4,
 "nbformat_minor": 2
}
