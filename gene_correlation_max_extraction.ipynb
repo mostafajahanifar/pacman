{
 "cells": [
  {
   "cell_type": "code",
   "execution_count": 21,
   "metadata": {},
   "outputs": [
    {
     "name": "stdout",
     "output_type": "stream",
     "text": [
      "UCEC 0\n",
      "STAD 0\n",
      "BRCA 57\n",
      "PRAD 0\n",
      "LUSC 0\n",
      "THCA 0\n",
      "CESC 0\n",
      "HNSC 0\n",
      "LIHC 28\n",
      "SKCM 0\n",
      "BLCA 0\n",
      "COADREAD 0\n",
      "LUAD 52\n",
      "ALL 136\n",
      "SARC 43\n",
      "KIRC 0\n",
      "GBMLGG 0\n",
      "KIRP 0\n"
     ]
    }
   ],
   "source": [
    "import os\n",
    "import pandas as pd\n",
    "\n",
    "corr_thresh = 0.60\n",
    "# Directory where your subdirectories are located\n",
    "base_directory = 'results_final/gene/expression/'\n",
    "\n",
    "# importing feature data to extract number of cases in each study\n",
    "discov_val_feats_path = '/mnt/gpfs01/lsf-workspace/u2070124/Data/Data/pancancer/tcga_features_final.csv'\n",
    "df = pd.read_csv(discov_val_feats_path)\n",
    "df['type'] = df['type'].replace(['COAD', 'READ'], 'COADREAD')\n",
    "df['type'] = df['type'].replace(['GBM', 'LGG'], 'GBMLGG')\n",
    "\n",
    "# Dictionary to store the final results, using entity names as keys\n",
    "final_results = set([])\n",
    "\n",
    "# Walk through each subdirectory\n",
    "for root, dirs, files in os.walk(base_directory):\n",
    "    # Check if both corr_p.csv and corr_r.csv exist in the directory\n",
    "    if 'corr_r.csv' in files and 'corr_p.csv' in files:\n",
    "        # Get the subdirectory name\n",
    "        subdirectory_name = os.path.basename(root)\n",
    "\n",
    "        temp_df = df[df['type']==subdirectory_name]\n",
    "        if subdirectory_name!=\"ALL\" and len(temp_df)<200:\n",
    "            continue\n",
    "        # subdirectory_name = \"KICH\"\n",
    "        # Load correlation and p-value files\n",
    "        corr_r_df = pd.read_csv(os.path.join(root, 'corr_r.csv'))\n",
    "        corr_p_df = pd.read_csv(os.path.join(root, 'corr_p.csv'))\n",
    "\n",
    "        corr_r_df=corr_r_df.set_index(\"Unnamed: 0\")\n",
    "        corr_p_df=corr_p_df.set_index(\"Unnamed: 0\")\n",
    "\n",
    "        # make the corr_r equal to 0 for the genes with non-significant p-value\n",
    "        corr_r_df[corr_p_df>0.01] = 0\n",
    "\n",
    "        corr_r_max = corr_r_df.abs().max(axis=0)\n",
    "        selected_genes = corr_r_max[corr_r_max>corr_thresh].index\n",
    "\n",
    "        final_results = final_results.union(set(selected_genes))\n",
    "\n",
    "        print(subdirectory_name, len(selected_genes))\n",
    "\n",
    "        # if subdirectory_name == \"BRCA\":\n",
    "        #     break\n",
    "# Convert the final_results dictionary to a DataFrame\n",
    "final_results_df = pd.DataFrame(final_results)\n",
    "\n",
    "# Save the results to a CSV file\n",
    "final_results_df.to_csv(base_directory+'filtered_results_major_cancers.csv', index=False, header=None)\n",
    "\n"
   ]
  },
  {
   "cell_type": "code",
   "execution_count": 22,
   "metadata": {},
   "outputs": [],
   "source": [
    "mnai = pd.read_csv(\"/mnt/gpfs01/lsf-workspace/u2070124/Code/mitsa/gene/data/MNAI_gene_data.csv\")"
   ]
  },
  {
   "cell_type": "code",
   "execution_count": 26,
   "metadata": {},
   "outputs": [
    {
     "data": {
      "text/plain": [
       "array(['UCEC', 'STAD', 'ESCA', 'MESO', 'UVM', 'CESC', 'TGCT', 'BRCA',\n",
       "       'THYM', 'HNSC', 'LUSC', 'THCA', 'LAML', 'COADREAD', 'LIHC', 'SKCM',\n",
       "       'KIRP', 'DLBC', 'PCPG', 'LGG', 'PAAD', 'GBM', 'KICH', 'UCS',\n",
       "       'LUAD', 'SARC', 'KIRC', 'CHOL', 'PRAD', 'OV', 'BLCA', 'ACC'],\n",
       "      dtype=object)"
      ]
     },
     "execution_count": 26,
     "metadata": {},
     "output_type": "execute_result"
    }
   ],
   "source": [
    "mnai[\"type\"].unique()"
   ]
  },
  {
   "cell_type": "code",
   "execution_count": null,
   "metadata": {},
   "outputs": [],
   "source": []
  }
 ],
 "metadata": {
  "kernelspec": {
   "display_name": "tiaviz",
   "language": "python",
   "name": "python3"
  },
  "language_info": {
   "codemirror_mode": {
    "name": "ipython",
    "version": 3
   },
   "file_extension": ".py",
   "mimetype": "text/x-python",
   "name": "python",
   "nbconvert_exporter": "python",
   "pygments_lexer": "ipython3",
   "version": "3.10.13"
  }
 },
 "nbformat": 4,
 "nbformat_minor": 2
}
